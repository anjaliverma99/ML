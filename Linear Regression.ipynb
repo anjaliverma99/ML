{
 "cells": [
  {
   "cell_type": "code",
   "execution_count": 1,
   "metadata": {},
   "outputs": [],
   "source": [
    "%matplotlib inline\n",
    "import numpy as np\n",
    "import pandas as pd\n",
    "import matplotlib.pyplot as plt"
   ]
  },
  {
   "cell_type": "code",
   "execution_count": 2,
   "metadata": {},
   "outputs": [],
   "source": [
    "df=pd.read_csv(\"iris.csv\")"
   ]
  },
  {
   "cell_type": "code",
   "execution_count": 6,
   "metadata": {},
   "outputs": [
    {
     "data": {
      "text/html": [
       "<div>\n",
       "<style scoped>\n",
       "    .dataframe tbody tr th:only-of-type {\n",
       "        vertical-align: middle;\n",
       "    }\n",
       "\n",
       "    .dataframe tbody tr th {\n",
       "        vertical-align: top;\n",
       "    }\n",
       "\n",
       "    .dataframe thead th {\n",
       "        text-align: right;\n",
       "    }\n",
       "</style>\n",
       "<table border=\"1\" class=\"dataframe\">\n",
       "  <thead>\n",
       "    <tr style=\"text-align: right;\">\n",
       "      <th></th>\n",
       "      <th>sepal_length</th>\n",
       "      <th>sepal_width</th>\n",
       "      <th>petal_length</th>\n",
       "      <th>petal_width</th>\n",
       "      <th>species</th>\n",
       "    </tr>\n",
       "  </thead>\n",
       "  <tbody>\n",
       "    <tr>\n",
       "      <th>0</th>\n",
       "      <td>5.1</td>\n",
       "      <td>3.5</td>\n",
       "      <td>1.4</td>\n",
       "      <td>0.2</td>\n",
       "      <td>setosa</td>\n",
       "    </tr>\n",
       "    <tr>\n",
       "      <th>1</th>\n",
       "      <td>4.9</td>\n",
       "      <td>3.0</td>\n",
       "      <td>1.4</td>\n",
       "      <td>0.2</td>\n",
       "      <td>setosa</td>\n",
       "    </tr>\n",
       "    <tr>\n",
       "      <th>2</th>\n",
       "      <td>4.7</td>\n",
       "      <td>3.2</td>\n",
       "      <td>1.3</td>\n",
       "      <td>0.2</td>\n",
       "      <td>setosa</td>\n",
       "    </tr>\n",
       "    <tr>\n",
       "      <th>3</th>\n",
       "      <td>4.6</td>\n",
       "      <td>3.1</td>\n",
       "      <td>1.5</td>\n",
       "      <td>0.2</td>\n",
       "      <td>setosa</td>\n",
       "    </tr>\n",
       "    <tr>\n",
       "      <th>4</th>\n",
       "      <td>5.0</td>\n",
       "      <td>3.6</td>\n",
       "      <td>1.4</td>\n",
       "      <td>0.2</td>\n",
       "      <td>setosa</td>\n",
       "    </tr>\n",
       "  </tbody>\n",
       "</table>\n",
       "</div>"
      ],
      "text/plain": [
       "   sepal_length  sepal_width  petal_length  petal_width species\n",
       "0           5.1          3.5           1.4          0.2  setosa\n",
       "1           4.9          3.0           1.4          0.2  setosa\n",
       "2           4.7          3.2           1.3          0.2  setosa\n",
       "3           4.6          3.1           1.5          0.2  setosa\n",
       "4           5.0          3.6           1.4          0.2  setosa"
      ]
     },
     "execution_count": 6,
     "metadata": {},
     "output_type": "execute_result"
    }
   ],
   "source": [
    "df.head()"
   ]
  },
  {
   "cell_type": "code",
   "execution_count": 8,
   "metadata": {},
   "outputs": [],
   "source": [
    "X=df[\"petal_length\"]\n",
    "#independent variable\n",
    "Y=df[\"petal_width\"]\n",
    "#dependent variable"
   ]
  },
  {
   "cell_type": "code",
   "execution_count": 9,
   "metadata": {},
   "outputs": [
    {
     "data": {
      "text/plain": [
       "3.488372093023256"
      ]
     },
     "execution_count": 9,
     "metadata": {},
     "output_type": "execute_result"
    }
   ],
   "source": [
    "df[\"petal_length\"].value_counts().mean()"
   ]
  },
  {
   "cell_type": "code",
   "execution_count": 10,
   "metadata": {},
   "outputs": [
    {
     "data": {
      "text/plain": [
       "3.488372093023256"
      ]
     },
     "execution_count": 10,
     "metadata": {},
     "output_type": "execute_result"
    }
   ],
   "source": [
    "df[\"petal_length\"].value_counts().mean()"
   ]
  },
  {
   "cell_type": "code",
   "execution_count": 12,
   "metadata": {},
   "outputs": [
    {
     "data": {
      "text/plain": [
       "3.7586666666666693"
      ]
     },
     "execution_count": 12,
     "metadata": {},
     "output_type": "execute_result"
    }
   ],
   "source": [
    "mean_x=np.mean(X)\n",
    "mean_x"
   ]
  },
  {
   "cell_type": "code",
   "execution_count": 14,
   "metadata": {},
   "outputs": [
    {
     "data": {
      "text/plain": [
       "1.1986666666666672"
      ]
     },
     "execution_count": 14,
     "metadata": {},
     "output_type": "execute_result"
    }
   ],
   "source": [
    "mean_y=np.mean(Y)\n",
    "mean_y"
   ]
  },
  {
   "cell_type": "code",
   "execution_count": 15,
   "metadata": {},
   "outputs": [],
   "source": [
    "n=len(X)"
   ]
  },
  {
   "cell_type": "code",
   "execution_count": 16,
   "metadata": {},
   "outputs": [
    {
     "data": {
      "text/plain": [
       "150"
      ]
     },
     "execution_count": 16,
     "metadata": {},
     "output_type": "execute_result"
    }
   ],
   "source": [
    "n"
   ]
  },
  {
   "cell_type": "code",
   "execution_count": 19,
   "metadata": {},
   "outputs": [],
   "source": [
    "z=len(Y)"
   ]
  },
  {
   "cell_type": "code",
   "execution_count": 20,
   "metadata": {},
   "outputs": [
    {
     "data": {
      "text/plain": [
       "150"
      ]
     },
     "execution_count": 20,
     "metadata": {},
     "output_type": "execute_result"
    }
   ],
   "source": [
    "z"
   ]
  },
  {
   "cell_type": "code",
   "execution_count": 24,
   "metadata": {},
   "outputs": [
    {
     "data": {
      "text/plain": [
       "range(0, 150)"
      ]
     },
     "execution_count": 24,
     "metadata": {},
     "output_type": "execute_result"
    }
   ],
   "source": [
    "range(n)"
   ]
  },
  {
   "cell_type": "code",
   "execution_count": 26,
   "metadata": {},
   "outputs": [],
   "source": [
    "numer=0\n",
    "denom=0\n",
    "for i in range(n):\n",
    "    numer+=(X[i]-mean_x)*(Y[i]-mean_y)\n",
    "    denom+=(X[i]-mean_x)**2\n",
    "    # m= summation of (x-mean_x)(y-mean_y)/(x-mean_x)^2\n",
    "    #x=petal_length(independent variable)\n",
    "    #y=petal_width(dependent variable)"
   ]
  },
  {
   "cell_type": "code",
   "execution_count": 27,
   "metadata": {},
   "outputs": [],
   "source": [
    "b1=numer/denom"
   ]
  },
  {
   "cell_type": "code",
   "execution_count": 29,
   "metadata": {},
   "outputs": [
    {
     "data": {
      "text/plain": [
       "0.4164191322854016"
      ]
     },
     "execution_count": 29,
     "metadata": {},
     "output_type": "execute_result"
    }
   ],
   "source": [
    "b1\n",
    "# m"
   ]
  },
  {
   "cell_type": "code",
   "execution_count": 30,
   "metadata": {},
   "outputs": [],
   "source": [
    "b0=mean_y-(b1*mean_x)"
   ]
  },
  {
   "cell_type": "code",
   "execution_count": 31,
   "metadata": {},
   "outputs": [
    {
     "data": {
      "text/plain": [
       "-0.36651404521673014"
      ]
     },
     "execution_count": 31,
     "metadata": {},
     "output_type": "execute_result"
    }
   ],
   "source": [
    "b0\n",
    "#line crosses  below the origin"
   ]
  },
  {
   "cell_type": "code",
   "execution_count": 37,
   "metadata": {},
   "outputs": [],
   "source": [
    "max_x=np.max(X)+100"
   ]
  },
  {
   "cell_type": "code",
   "execution_count": 38,
   "metadata": {},
   "outputs": [
    {
     "data": {
      "text/plain": [
       "106.9"
      ]
     },
     "execution_count": 38,
     "metadata": {},
     "output_type": "execute_result"
    }
   ],
   "source": [
    "max_x"
   ]
  },
  {
   "cell_type": "code",
   "execution_count": 35,
   "metadata": {},
   "outputs": [
    {
     "data": {
      "text/plain": [
       "-99.0"
      ]
     },
     "execution_count": 35,
     "metadata": {},
     "output_type": "execute_result"
    }
   ],
   "source": [
    "min_x=np.min(X)-100\n",
    "min_x"
   ]
  },
  {
   "cell_type": "code",
   "execution_count": 39,
   "metadata": {},
   "outputs": [],
   "source": [
    "x=np.linspace(min_x,max_x,1000)"
   ]
  },
  {
   "cell_type": "code",
   "execution_count": 40,
   "metadata": {},
   "outputs": [
    {
     "data": {
      "text/plain": [
       "array([-9.90000000e+01, -9.87938939e+01, -9.85877878e+01, -9.83816817e+01,\n",
       "       -9.81755756e+01, -9.79694695e+01, -9.77633634e+01, -9.75572573e+01,\n",
       "       -9.73511512e+01, -9.71450450e+01, -9.69389389e+01, -9.67328328e+01,\n",
       "       -9.65267267e+01, -9.63206206e+01, -9.61145145e+01, -9.59084084e+01,\n",
       "       -9.57023023e+01, -9.54961962e+01, -9.52900901e+01, -9.50839840e+01,\n",
       "       -9.48778779e+01, -9.46717718e+01, -9.44656657e+01, -9.42595596e+01,\n",
       "       -9.40534535e+01, -9.38473473e+01, -9.36412412e+01, -9.34351351e+01,\n",
       "       -9.32290290e+01, -9.30229229e+01, -9.28168168e+01, -9.26107107e+01,\n",
       "       -9.24046046e+01, -9.21984985e+01, -9.19923924e+01, -9.17862863e+01,\n",
       "       -9.15801802e+01, -9.13740741e+01, -9.11679680e+01, -9.09618619e+01,\n",
       "       -9.07557558e+01, -9.05496496e+01, -9.03435435e+01, -9.01374374e+01,\n",
       "       -8.99313313e+01, -8.97252252e+01, -8.95191191e+01, -8.93130130e+01,\n",
       "       -8.91069069e+01, -8.89008008e+01, -8.86946947e+01, -8.84885886e+01,\n",
       "       -8.82824825e+01, -8.80763764e+01, -8.78702703e+01, -8.76641642e+01,\n",
       "       -8.74580581e+01, -8.72519520e+01, -8.70458458e+01, -8.68397397e+01,\n",
       "       -8.66336336e+01, -8.64275275e+01, -8.62214214e+01, -8.60153153e+01,\n",
       "       -8.58092092e+01, -8.56031031e+01, -8.53969970e+01, -8.51908909e+01,\n",
       "       -8.49847848e+01, -8.47786787e+01, -8.45725726e+01, -8.43664665e+01,\n",
       "       -8.41603604e+01, -8.39542543e+01, -8.37481481e+01, -8.35420420e+01,\n",
       "       -8.33359359e+01, -8.31298298e+01, -8.29237237e+01, -8.27176176e+01,\n",
       "       -8.25115115e+01, -8.23054054e+01, -8.20992993e+01, -8.18931932e+01,\n",
       "       -8.16870871e+01, -8.14809810e+01, -8.12748749e+01, -8.10687688e+01,\n",
       "       -8.08626627e+01, -8.06565566e+01, -8.04504505e+01, -8.02443443e+01,\n",
       "       -8.00382382e+01, -7.98321321e+01, -7.96260260e+01, -7.94199199e+01,\n",
       "       -7.92138138e+01, -7.90077077e+01, -7.88016016e+01, -7.85954955e+01,\n",
       "       -7.83893894e+01, -7.81832833e+01, -7.79771772e+01, -7.77710711e+01,\n",
       "       -7.75649650e+01, -7.73588589e+01, -7.71527528e+01, -7.69466466e+01,\n",
       "       -7.67405405e+01, -7.65344344e+01, -7.63283283e+01, -7.61222222e+01,\n",
       "       -7.59161161e+01, -7.57100100e+01, -7.55039039e+01, -7.52977978e+01,\n",
       "       -7.50916917e+01, -7.48855856e+01, -7.46794795e+01, -7.44733734e+01,\n",
       "       -7.42672673e+01, -7.40611612e+01, -7.38550551e+01, -7.36489489e+01,\n",
       "       -7.34428428e+01, -7.32367367e+01, -7.30306306e+01, -7.28245245e+01,\n",
       "       -7.26184184e+01, -7.24123123e+01, -7.22062062e+01, -7.20001001e+01,\n",
       "       -7.17939940e+01, -7.15878879e+01, -7.13817818e+01, -7.11756757e+01,\n",
       "       -7.09695696e+01, -7.07634635e+01, -7.05573574e+01, -7.03512513e+01,\n",
       "       -7.01451451e+01, -6.99390390e+01, -6.97329329e+01, -6.95268268e+01,\n",
       "       -6.93207207e+01, -6.91146146e+01, -6.89085085e+01, -6.87024024e+01,\n",
       "       -6.84962963e+01, -6.82901902e+01, -6.80840841e+01, -6.78779780e+01,\n",
       "       -6.76718719e+01, -6.74657658e+01, -6.72596597e+01, -6.70535536e+01,\n",
       "       -6.68474474e+01, -6.66413413e+01, -6.64352352e+01, -6.62291291e+01,\n",
       "       -6.60230230e+01, -6.58169169e+01, -6.56108108e+01, -6.54047047e+01,\n",
       "       -6.51985986e+01, -6.49924925e+01, -6.47863864e+01, -6.45802803e+01,\n",
       "       -6.43741742e+01, -6.41680681e+01, -6.39619620e+01, -6.37558559e+01,\n",
       "       -6.35497497e+01, -6.33436436e+01, -6.31375375e+01, -6.29314314e+01,\n",
       "       -6.27253253e+01, -6.25192192e+01, -6.23131131e+01, -6.21070070e+01,\n",
       "       -6.19009009e+01, -6.16947948e+01, -6.14886887e+01, -6.12825826e+01,\n",
       "       -6.10764765e+01, -6.08703704e+01, -6.06642643e+01, -6.04581582e+01,\n",
       "       -6.02520521e+01, -6.00459459e+01, -5.98398398e+01, -5.96337337e+01,\n",
       "       -5.94276276e+01, -5.92215215e+01, -5.90154154e+01, -5.88093093e+01,\n",
       "       -5.86032032e+01, -5.83970971e+01, -5.81909910e+01, -5.79848849e+01,\n",
       "       -5.77787788e+01, -5.75726727e+01, -5.73665666e+01, -5.71604605e+01,\n",
       "       -5.69543544e+01, -5.67482482e+01, -5.65421421e+01, -5.63360360e+01,\n",
       "       -5.61299299e+01, -5.59238238e+01, -5.57177177e+01, -5.55116116e+01,\n",
       "       -5.53055055e+01, -5.50993994e+01, -5.48932933e+01, -5.46871872e+01,\n",
       "       -5.44810811e+01, -5.42749750e+01, -5.40688689e+01, -5.38627628e+01,\n",
       "       -5.36566567e+01, -5.34505506e+01, -5.32444444e+01, -5.30383383e+01,\n",
       "       -5.28322322e+01, -5.26261261e+01, -5.24200200e+01, -5.22139139e+01,\n",
       "       -5.20078078e+01, -5.18017017e+01, -5.15955956e+01, -5.13894895e+01,\n",
       "       -5.11833834e+01, -5.09772773e+01, -5.07711712e+01, -5.05650651e+01,\n",
       "       -5.03589590e+01, -5.01528529e+01, -4.99467467e+01, -4.97406406e+01,\n",
       "       -4.95345345e+01, -4.93284284e+01, -4.91223223e+01, -4.89162162e+01,\n",
       "       -4.87101101e+01, -4.85040040e+01, -4.82978979e+01, -4.80917918e+01,\n",
       "       -4.78856857e+01, -4.76795796e+01, -4.74734735e+01, -4.72673674e+01,\n",
       "       -4.70612613e+01, -4.68551552e+01, -4.66490490e+01, -4.64429429e+01,\n",
       "       -4.62368368e+01, -4.60307307e+01, -4.58246246e+01, -4.56185185e+01,\n",
       "       -4.54124124e+01, -4.52063063e+01, -4.50002002e+01, -4.47940941e+01,\n",
       "       -4.45879880e+01, -4.43818819e+01, -4.41757758e+01, -4.39696697e+01,\n",
       "       -4.37635636e+01, -4.35574575e+01, -4.33513514e+01, -4.31452452e+01,\n",
       "       -4.29391391e+01, -4.27330330e+01, -4.25269269e+01, -4.23208208e+01,\n",
       "       -4.21147147e+01, -4.19086086e+01, -4.17025025e+01, -4.14963964e+01,\n",
       "       -4.12902903e+01, -4.10841842e+01, -4.08780781e+01, -4.06719720e+01,\n",
       "       -4.04658659e+01, -4.02597598e+01, -4.00536537e+01, -3.98475475e+01,\n",
       "       -3.96414414e+01, -3.94353353e+01, -3.92292292e+01, -3.90231231e+01,\n",
       "       -3.88170170e+01, -3.86109109e+01, -3.84048048e+01, -3.81986987e+01,\n",
       "       -3.79925926e+01, -3.77864865e+01, -3.75803804e+01, -3.73742743e+01,\n",
       "       -3.71681682e+01, -3.69620621e+01, -3.67559560e+01, -3.65498498e+01,\n",
       "       -3.63437437e+01, -3.61376376e+01, -3.59315315e+01, -3.57254254e+01,\n",
       "       -3.55193193e+01, -3.53132132e+01, -3.51071071e+01, -3.49010010e+01,\n",
       "       -3.46948949e+01, -3.44887888e+01, -3.42826827e+01, -3.40765766e+01,\n",
       "       -3.38704705e+01, -3.36643644e+01, -3.34582583e+01, -3.32521522e+01,\n",
       "       -3.30460460e+01, -3.28399399e+01, -3.26338338e+01, -3.24277277e+01,\n",
       "       -3.22216216e+01, -3.20155155e+01, -3.18094094e+01, -3.16033033e+01,\n",
       "       -3.13971972e+01, -3.11910911e+01, -3.09849850e+01, -3.07788789e+01,\n",
       "       -3.05727728e+01, -3.03666667e+01, -3.01605606e+01, -2.99544545e+01,\n",
       "       -2.97483483e+01, -2.95422422e+01, -2.93361361e+01, -2.91300300e+01,\n",
       "       -2.89239239e+01, -2.87178178e+01, -2.85117117e+01, -2.83056056e+01,\n",
       "       -2.80994995e+01, -2.78933934e+01, -2.76872873e+01, -2.74811812e+01,\n",
       "       -2.72750751e+01, -2.70689690e+01, -2.68628629e+01, -2.66567568e+01,\n",
       "       -2.64506507e+01, -2.62445445e+01, -2.60384384e+01, -2.58323323e+01,\n",
       "       -2.56262262e+01, -2.54201201e+01, -2.52140140e+01, -2.50079079e+01,\n",
       "       -2.48018018e+01, -2.45956957e+01, -2.43895896e+01, -2.41834835e+01,\n",
       "       -2.39773774e+01, -2.37712713e+01, -2.35651652e+01, -2.33590591e+01,\n",
       "       -2.31529530e+01, -2.29468468e+01, -2.27407407e+01, -2.25346346e+01,\n",
       "       -2.23285285e+01, -2.21224224e+01, -2.19163163e+01, -2.17102102e+01,\n",
       "       -2.15041041e+01, -2.12979980e+01, -2.10918919e+01, -2.08857858e+01,\n",
       "       -2.06796797e+01, -2.04735736e+01, -2.02674675e+01, -2.00613614e+01,\n",
       "       -1.98552553e+01, -1.96491491e+01, -1.94430430e+01, -1.92369369e+01,\n",
       "       -1.90308308e+01, -1.88247247e+01, -1.86186186e+01, -1.84125125e+01,\n",
       "       -1.82064064e+01, -1.80003003e+01, -1.77941942e+01, -1.75880881e+01,\n",
       "       -1.73819820e+01, -1.71758759e+01, -1.69697698e+01, -1.67636637e+01,\n",
       "       -1.65575576e+01, -1.63514515e+01, -1.61453453e+01, -1.59392392e+01,\n",
       "       -1.57331331e+01, -1.55270270e+01, -1.53209209e+01, -1.51148148e+01,\n",
       "       -1.49087087e+01, -1.47026026e+01, -1.44964965e+01, -1.42903904e+01,\n",
       "       -1.40842843e+01, -1.38781782e+01, -1.36720721e+01, -1.34659660e+01,\n",
       "       -1.32598599e+01, -1.30537538e+01, -1.28476476e+01, -1.26415415e+01,\n",
       "       -1.24354354e+01, -1.22293293e+01, -1.20232232e+01, -1.18171171e+01,\n",
       "       -1.16110110e+01, -1.14049049e+01, -1.11987988e+01, -1.09926927e+01,\n",
       "       -1.07865866e+01, -1.05804805e+01, -1.03743744e+01, -1.01682683e+01,\n",
       "       -9.96216216e+00, -9.75605606e+00, -9.54994995e+00, -9.34384384e+00,\n",
       "       -9.13773774e+00, -8.93163163e+00, -8.72552553e+00, -8.51941942e+00,\n",
       "       -8.31331331e+00, -8.10720721e+00, -7.90110110e+00, -7.69499499e+00,\n",
       "       -7.48888889e+00, -7.28278278e+00, -7.07667668e+00, -6.87057057e+00,\n",
       "       -6.66446446e+00, -6.45835836e+00, -6.25225225e+00, -6.04614615e+00,\n",
       "       -5.84004004e+00, -5.63393393e+00, -5.42782783e+00, -5.22172172e+00,\n",
       "       -5.01561562e+00, -4.80950951e+00, -4.60340340e+00, -4.39729730e+00,\n",
       "       -4.19119119e+00, -3.98508509e+00, -3.77897898e+00, -3.57287287e+00,\n",
       "       -3.36676677e+00, -3.16066066e+00, -2.95455455e+00, -2.74844845e+00,\n",
       "       -2.54234234e+00, -2.33623624e+00, -2.13013013e+00, -1.92402402e+00,\n",
       "       -1.71791792e+00, -1.51181181e+00, -1.30570571e+00, -1.09959960e+00,\n",
       "       -8.93493493e-01, -6.87387387e-01, -4.81281281e-01, -2.75175175e-01,\n",
       "       -6.90690691e-02,  1.37037037e-01,  3.43143143e-01,  5.49249249e-01,\n",
       "        7.55355355e-01,  9.61461461e-01,  1.16756757e+00,  1.37367367e+00,\n",
       "        1.57977978e+00,  1.78588589e+00,  1.99199199e+00,  2.19809810e+00,\n",
       "        2.40420420e+00,  2.61031031e+00,  2.81641642e+00,  3.02252252e+00,\n",
       "        3.22862863e+00,  3.43473473e+00,  3.64084084e+00,  3.84694695e+00,\n",
       "        4.05305305e+00,  4.25915916e+00,  4.46526527e+00,  4.67137137e+00,\n",
       "        4.87747748e+00,  5.08358358e+00,  5.28968969e+00,  5.49579580e+00,\n",
       "        5.70190190e+00,  5.90800801e+00,  6.11411411e+00,  6.32022022e+00,\n",
       "        6.52632633e+00,  6.73243243e+00,  6.93853854e+00,  7.14464464e+00,\n",
       "        7.35075075e+00,  7.55685686e+00,  7.76296296e+00,  7.96906907e+00,\n",
       "        8.17517518e+00,  8.38128128e+00,  8.58738739e+00,  8.79349349e+00,\n",
       "        8.99959960e+00,  9.20570571e+00,  9.41181181e+00,  9.61791792e+00,\n",
       "        9.82402402e+00,  1.00301301e+01,  1.02362362e+01,  1.04423423e+01,\n",
       "        1.06484484e+01,  1.08545546e+01,  1.10606607e+01,  1.12667668e+01,\n",
       "        1.14728729e+01,  1.16789790e+01,  1.18850851e+01,  1.20911912e+01,\n",
       "        1.22972973e+01,  1.25034034e+01,  1.27095095e+01,  1.29156156e+01,\n",
       "        1.31217217e+01,  1.33278278e+01,  1.35339339e+01,  1.37400400e+01,\n",
       "        1.39461461e+01,  1.41522523e+01,  1.43583584e+01,  1.45644645e+01,\n",
       "        1.47705706e+01,  1.49766767e+01,  1.51827828e+01,  1.53888889e+01,\n",
       "        1.55949950e+01,  1.58011011e+01,  1.60072072e+01,  1.62133133e+01,\n",
       "        1.64194194e+01,  1.66255255e+01,  1.68316316e+01,  1.70377377e+01,\n",
       "        1.72438438e+01,  1.74499499e+01,  1.76560561e+01,  1.78621622e+01,\n",
       "        1.80682683e+01,  1.82743744e+01,  1.84804805e+01,  1.86865866e+01,\n",
       "        1.88926927e+01,  1.90987988e+01,  1.93049049e+01,  1.95110110e+01,\n",
       "        1.97171171e+01,  1.99232232e+01,  2.01293293e+01,  2.03354354e+01,\n",
       "        2.05415415e+01,  2.07476476e+01,  2.09537538e+01,  2.11598599e+01,\n",
       "        2.13659660e+01,  2.15720721e+01,  2.17781782e+01,  2.19842843e+01,\n",
       "        2.21903904e+01,  2.23964965e+01,  2.26026026e+01,  2.28087087e+01,\n",
       "        2.30148148e+01,  2.32209209e+01,  2.34270270e+01,  2.36331331e+01,\n",
       "        2.38392392e+01,  2.40453453e+01,  2.42514515e+01,  2.44575576e+01,\n",
       "        2.46636637e+01,  2.48697698e+01,  2.50758759e+01,  2.52819820e+01,\n",
       "        2.54880881e+01,  2.56941942e+01,  2.59003003e+01,  2.61064064e+01,\n",
       "        2.63125125e+01,  2.65186186e+01,  2.67247247e+01,  2.69308308e+01,\n",
       "        2.71369369e+01,  2.73430430e+01,  2.75491491e+01,  2.77552553e+01,\n",
       "        2.79613614e+01,  2.81674675e+01,  2.83735736e+01,  2.85796797e+01,\n",
       "        2.87857858e+01,  2.89918919e+01,  2.91979980e+01,  2.94041041e+01,\n",
       "        2.96102102e+01,  2.98163163e+01,  3.00224224e+01,  3.02285285e+01,\n",
       "        3.04346346e+01,  3.06407407e+01,  3.08468468e+01,  3.10529530e+01,\n",
       "        3.12590591e+01,  3.14651652e+01,  3.16712713e+01,  3.18773774e+01,\n",
       "        3.20834835e+01,  3.22895896e+01,  3.24956957e+01,  3.27018018e+01,\n",
       "        3.29079079e+01,  3.31140140e+01,  3.33201201e+01,  3.35262262e+01,\n",
       "        3.37323323e+01,  3.39384384e+01,  3.41445445e+01,  3.43506507e+01,\n",
       "        3.45567568e+01,  3.47628629e+01,  3.49689690e+01,  3.51750751e+01,\n",
       "        3.53811812e+01,  3.55872873e+01,  3.57933934e+01,  3.59994995e+01,\n",
       "        3.62056056e+01,  3.64117117e+01,  3.66178178e+01,  3.68239239e+01,\n",
       "        3.70300300e+01,  3.72361361e+01,  3.74422422e+01,  3.76483483e+01,\n",
       "        3.78544545e+01,  3.80605606e+01,  3.82666667e+01,  3.84727728e+01,\n",
       "        3.86788789e+01,  3.88849850e+01,  3.90910911e+01,  3.92971972e+01,\n",
       "        3.95033033e+01,  3.97094094e+01,  3.99155155e+01,  4.01216216e+01,\n",
       "        4.03277277e+01,  4.05338338e+01,  4.07399399e+01,  4.09460460e+01,\n",
       "        4.11521522e+01,  4.13582583e+01,  4.15643644e+01,  4.17704705e+01,\n",
       "        4.19765766e+01,  4.21826827e+01,  4.23887888e+01,  4.25948949e+01,\n",
       "        4.28010010e+01,  4.30071071e+01,  4.32132132e+01,  4.34193193e+01,\n",
       "        4.36254254e+01,  4.38315315e+01,  4.40376376e+01,  4.42437437e+01,\n",
       "        4.44498498e+01,  4.46559560e+01,  4.48620621e+01,  4.50681682e+01,\n",
       "        4.52742743e+01,  4.54803804e+01,  4.56864865e+01,  4.58925926e+01,\n",
       "        4.60986987e+01,  4.63048048e+01,  4.65109109e+01,  4.67170170e+01,\n",
       "        4.69231231e+01,  4.71292292e+01,  4.73353353e+01,  4.75414414e+01,\n",
       "        4.77475475e+01,  4.79536537e+01,  4.81597598e+01,  4.83658659e+01,\n",
       "        4.85719720e+01,  4.87780781e+01,  4.89841842e+01,  4.91902903e+01,\n",
       "        4.93963964e+01,  4.96025025e+01,  4.98086086e+01,  5.00147147e+01,\n",
       "        5.02208208e+01,  5.04269269e+01,  5.06330330e+01,  5.08391391e+01,\n",
       "        5.10452452e+01,  5.12513514e+01,  5.14574575e+01,  5.16635636e+01,\n",
       "        5.18696697e+01,  5.20757758e+01,  5.22818819e+01,  5.24879880e+01,\n",
       "        5.26940941e+01,  5.29002002e+01,  5.31063063e+01,  5.33124124e+01,\n",
       "        5.35185185e+01,  5.37246246e+01,  5.39307307e+01,  5.41368368e+01,\n",
       "        5.43429429e+01,  5.45490490e+01,  5.47551552e+01,  5.49612613e+01,\n",
       "        5.51673674e+01,  5.53734735e+01,  5.55795796e+01,  5.57856857e+01,\n",
       "        5.59917918e+01,  5.61978979e+01,  5.64040040e+01,  5.66101101e+01,\n",
       "        5.68162162e+01,  5.70223223e+01,  5.72284284e+01,  5.74345345e+01,\n",
       "        5.76406406e+01,  5.78467467e+01,  5.80528529e+01,  5.82589590e+01,\n",
       "        5.84650651e+01,  5.86711712e+01,  5.88772773e+01,  5.90833834e+01,\n",
       "        5.92894895e+01,  5.94955956e+01,  5.97017017e+01,  5.99078078e+01,\n",
       "        6.01139139e+01,  6.03200200e+01,  6.05261261e+01,  6.07322322e+01,\n",
       "        6.09383383e+01,  6.11444444e+01,  6.13505506e+01,  6.15566567e+01,\n",
       "        6.17627628e+01,  6.19688689e+01,  6.21749750e+01,  6.23810811e+01,\n",
       "        6.25871872e+01,  6.27932933e+01,  6.29993994e+01,  6.32055055e+01,\n",
       "        6.34116116e+01,  6.36177177e+01,  6.38238238e+01,  6.40299299e+01,\n",
       "        6.42360360e+01,  6.44421421e+01,  6.46482482e+01,  6.48543544e+01,\n",
       "        6.50604605e+01,  6.52665666e+01,  6.54726727e+01,  6.56787788e+01,\n",
       "        6.58848849e+01,  6.60909910e+01,  6.62970971e+01,  6.65032032e+01,\n",
       "        6.67093093e+01,  6.69154154e+01,  6.71215215e+01,  6.73276276e+01,\n",
       "        6.75337337e+01,  6.77398398e+01,  6.79459459e+01,  6.81520521e+01,\n",
       "        6.83581582e+01,  6.85642643e+01,  6.87703704e+01,  6.89764765e+01,\n",
       "        6.91825826e+01,  6.93886887e+01,  6.95947948e+01,  6.98009009e+01,\n",
       "        7.00070070e+01,  7.02131131e+01,  7.04192192e+01,  7.06253253e+01,\n",
       "        7.08314314e+01,  7.10375375e+01,  7.12436436e+01,  7.14497497e+01,\n",
       "        7.16558559e+01,  7.18619620e+01,  7.20680681e+01,  7.22741742e+01,\n",
       "        7.24802803e+01,  7.26863864e+01,  7.28924925e+01,  7.30985986e+01,\n",
       "        7.33047047e+01,  7.35108108e+01,  7.37169169e+01,  7.39230230e+01,\n",
       "        7.41291291e+01,  7.43352352e+01,  7.45413413e+01,  7.47474474e+01,\n",
       "        7.49535536e+01,  7.51596597e+01,  7.53657658e+01,  7.55718719e+01,\n",
       "        7.57779780e+01,  7.59840841e+01,  7.61901902e+01,  7.63962963e+01,\n",
       "        7.66024024e+01,  7.68085085e+01,  7.70146146e+01,  7.72207207e+01,\n",
       "        7.74268268e+01,  7.76329329e+01,  7.78390390e+01,  7.80451451e+01,\n",
       "        7.82512513e+01,  7.84573574e+01,  7.86634635e+01,  7.88695696e+01,\n",
       "        7.90756757e+01,  7.92817818e+01,  7.94878879e+01,  7.96939940e+01,\n",
       "        7.99001001e+01,  8.01062062e+01,  8.03123123e+01,  8.05184184e+01,\n",
       "        8.07245245e+01,  8.09306306e+01,  8.11367367e+01,  8.13428428e+01,\n",
       "        8.15489489e+01,  8.17550551e+01,  8.19611612e+01,  8.21672673e+01,\n",
       "        8.23733734e+01,  8.25794795e+01,  8.27855856e+01,  8.29916917e+01,\n",
       "        8.31977978e+01,  8.34039039e+01,  8.36100100e+01,  8.38161161e+01,\n",
       "        8.40222222e+01,  8.42283283e+01,  8.44344344e+01,  8.46405405e+01,\n",
       "        8.48466466e+01,  8.50527528e+01,  8.52588589e+01,  8.54649650e+01,\n",
       "        8.56710711e+01,  8.58771772e+01,  8.60832833e+01,  8.62893894e+01,\n",
       "        8.64954955e+01,  8.67016016e+01,  8.69077077e+01,  8.71138138e+01,\n",
       "        8.73199199e+01,  8.75260260e+01,  8.77321321e+01,  8.79382382e+01,\n",
       "        8.81443443e+01,  8.83504505e+01,  8.85565566e+01,  8.87626627e+01,\n",
       "        8.89687688e+01,  8.91748749e+01,  8.93809810e+01,  8.95870871e+01,\n",
       "        8.97931932e+01,  8.99992993e+01,  9.02054054e+01,  9.04115115e+01,\n",
       "        9.06176176e+01,  9.08237237e+01,  9.10298298e+01,  9.12359359e+01,\n",
       "        9.14420420e+01,  9.16481481e+01,  9.18542543e+01,  9.20603604e+01,\n",
       "        9.22664665e+01,  9.24725726e+01,  9.26786787e+01,  9.28847848e+01,\n",
       "        9.30908909e+01,  9.32969970e+01,  9.35031031e+01,  9.37092092e+01,\n",
       "        9.39153153e+01,  9.41214214e+01,  9.43275275e+01,  9.45336336e+01,\n",
       "        9.47397397e+01,  9.49458458e+01,  9.51519520e+01,  9.53580581e+01,\n",
       "        9.55641642e+01,  9.57702703e+01,  9.59763764e+01,  9.61824825e+01,\n",
       "        9.63885886e+01,  9.65946947e+01,  9.68008008e+01,  9.70069069e+01,\n",
       "        9.72130130e+01,  9.74191191e+01,  9.76252252e+01,  9.78313313e+01,\n",
       "        9.80374374e+01,  9.82435435e+01,  9.84496496e+01,  9.86557558e+01,\n",
       "        9.88618619e+01,  9.90679680e+01,  9.92740741e+01,  9.94801802e+01,\n",
       "        9.96862863e+01,  9.98923924e+01,  1.00098498e+02,  1.00304605e+02,\n",
       "        1.00510711e+02,  1.00716817e+02,  1.00922923e+02,  1.01129029e+02,\n",
       "        1.01335135e+02,  1.01541241e+02,  1.01747347e+02,  1.01953453e+02,\n",
       "        1.02159560e+02,  1.02365666e+02,  1.02571772e+02,  1.02777878e+02,\n",
       "        1.02983984e+02,  1.03190090e+02,  1.03396196e+02,  1.03602302e+02,\n",
       "        1.03808408e+02,  1.04014515e+02,  1.04220621e+02,  1.04426727e+02,\n",
       "        1.04632833e+02,  1.04838939e+02,  1.05045045e+02,  1.05251151e+02,\n",
       "        1.05457257e+02,  1.05663363e+02,  1.05869469e+02,  1.06075576e+02,\n",
       "        1.06281682e+02,  1.06487788e+02,  1.06693894e+02,  1.06900000e+02])"
      ]
     },
     "execution_count": 40,
     "metadata": {},
     "output_type": "execute_result"
    }
   ],
   "source": [
    "x"
   ]
  },
  {
   "cell_type": "code",
   "execution_count": 41,
   "metadata": {},
   "outputs": [],
   "source": [
    "y=b0+b1*x"
   ]
  },
  {
   "cell_type": "code",
   "execution_count": 43,
   "metadata": {},
   "outputs": [
    {
     "data": {
      "text/plain": [
       "[<matplotlib.lines.Line2D at 0x146fc6dce08>]"
      ]
     },
     "execution_count": 43,
     "metadata": {},
     "output_type": "execute_result"
    },
    {
     "data": {
      "image/png": "[encoded data removed]",
      "text/plain": [
       "<Figure size 432x288 with 1 Axes>"
      ]
     },
     "metadata": {
      "needs_background": "light"
     },
     "output_type": "display_data"
    }
   ],
   "source": [
    "plt.plot(x,y,color='#58b970',label='Regression Line')\n"
   ]
  },
  {
   "cell_type": "code",
   "execution_count": 44,
   "metadata": {},
   "outputs": [
    {
     "data": {
      "image/png": "[encoded data removed]",
      "text/plain": [
       "<Figure size 432x288 with 1 Axes>"
      ]
     },
     "metadata": {
      "needs_background": "light"
     },
     "output_type": "display_data"
    }
   ],
   "source": [
    "plt.scatter(X,Y,c='#ef5424',label='scatter plot')\n",
    "plt.xlabel('petal_length')\n",
    "plt.ylabel('petal_width')\n",
    "plt.legend()\n",
    "plt.show()"
   ]
  },
  {
   "cell_type": "code",
   "execution_count": 45,
   "metadata": {},
   "outputs": [
    {
     "data": {
      "image/png": "[encoded data removed]",
      "text/plain": [
       "<Figure size 432x288 with 1 Axes>"
      ]
     },
     "metadata": {
      "needs_background": "light"
     },
     "output_type": "display_data"
    }
   ],
   "source": [
    "plt.plot(x,y,color='#58b970',label='Regression Line')\n",
    "plt.scatter(X,Y,c='#ef5424',label='scatter plot')\n",
    "plt.xlabel('petal_length')\n",
    "plt.ylabel('petal_width')\n",
    "plt.legend()\n",
    "plt.show()\n"
   ]
  },
  {
   "cell_type": "code",
   "execution_count": 8,
   "metadata": {},
   "outputs": [],
   "source": [
    "import numpy as np\n",
    "import pandas as pd\n",
    "import matplotlib.pyplot as plt\n",
    "\n",
    "\n"
   ]
  },
  {
   "cell_type": "code",
   "execution_count": 9,
   "metadata": {},
   "outputs": [],
   "source": [
    "df=pd.read_csv(\"iris.csv\")\n",
    "X=df[\"petal_length\"]\n",
    "#independent variable\n",
    "Y=df[\"petal_width\"]\n",
    "#dependent variable\n"
   ]
  },
  {
   "cell_type": "code",
   "execution_count": 11,
   "metadata": {},
   "outputs": [],
   "source": [
    "mean_x=np.mean(X)\n",
    "mean_x\n",
    "mean_y=np.mean(Y)\n",
    "mean_x\n",
    "\n",
    "n=len(X)\n",
    "numer=0\n",
    "denom=0\n",
    "for i in range(n):\n",
    "    numer+=(X[i]-mean_x)*(Y[i]-mean_y)\n",
    "    denom+=(X[i]-mean_x)**2\n"
   ]
  },
  {
   "cell_type": "code",
   "execution_count": 12,
   "metadata": {},
   "outputs": [],
   "source": [
    "b1=numer/denom"
   ]
  },
  {
   "cell_type": "code",
   "execution_count": 13,
   "metadata": {},
   "outputs": [],
   "source": [
    "b0=mean_y-(b1*mean_x)"
   ]
  },
  {
   "cell_type": "code",
   "execution_count": 15,
   "metadata": {},
   "outputs": [
    {
     "data": {
      "text/plain": [
       "range(0, 150)"
      ]
     },
     "execution_count": 15,
     "metadata": {},
     "output_type": "execute_result"
    }
   ],
   "source": [
    "range(n)"
   ]
  },
  {
   "cell_type": "code",
   "execution_count": 17,
   "metadata": {},
   "outputs": [
    {
     "name": "stdout",
     "output_type": "stream",
     "text": [
      "0.9269012279220037\n"
     ]
    }
   ],
   "source": [
    "ss_t=0\n",
    "ss_r=0\n",
    "for i in range(n):\n",
    "    y_pred=b0+b1*X[i]\n",
    "    ss_t+=(Y[i]-mean_y)**2\n",
    "    ss_r+=(Y[i]-y_pred)**2\n",
    "r2=1-(ss_r/ss_t)\n",
    "print(r2)"
   ]
  },
  {
   "cell_type": "code",
   "execution_count": 18,
   "metadata": {},
   "outputs": [],
   "source": [
    "from sklearn.linear_model import LinearRegression\n",
    "from sklearn.metrics import mean_squared_error\n"
   ]
  },
  {
   "cell_type": "code",
   "execution_count": 40,
   "metadata": {},
   "outputs": [],
   "source": [
    "x=df[\"petal_length\"].values.reshape(-1,1)\n",
    "y=df[\"petal_width\"].values.reshape(-1,1)"
   ]
  },
  {
   "cell_type": "code",
   "execution_count": 34,
   "metadata": {},
   "outputs": [],
   "source": [
    "reg=LinearRegression()"
   ]
  },
  {
   "cell_type": "code",
   "execution_count": 41,
   "metadata": {},
   "outputs": [],
   "source": [
    "reg=reg.fit(x,y)"
   ]
  },
  {
   "cell_type": "code",
   "execution_count": 42,
   "metadata": {},
   "outputs": [],
   "source": [
    "y_pred=reg.predict(x)"
   ]
  },
  {
   "cell_type": "code",
   "execution_count": 43,
   "metadata": {},
   "outputs": [],
   "source": [
    "r2_score=reg.score(x,y)"
   ]
  },
  {
   "cell_type": "code",
   "execution_count": 44,
   "metadata": {},
   "outputs": [
    {
     "data": {
      "text/plain": [
       "0.9269012279220037"
      ]
     },
     "execution_count": 44,
     "metadata": {},
     "output_type": "execute_result"
    }
   ],
   "source": [
    "r2_score"
   ]
  },
  {
   "cell_type": "code",
   "execution_count": null,
   "metadata": {},
   "outputs": [],
   "source": []
  }
 ],
 "metadata": {
  "kernelspec": {
   "display_name": "Python 3",
   "language": "python",
   "name": "python3"
  },
  "language_info": {
   "codemirror_mode": {
    "name": "ipython",
    "version": 3
   },
   "file_extension": ".py",
   "mimetype": "text/x-python",
   "name": "python",
   "nbconvert_exporter": "python",
   "pygments_lexer": "ipython3",
   "version": "3.7.6"
  }
 },
 "nbformat": 4,
 "nbformat_minor": 4
}
